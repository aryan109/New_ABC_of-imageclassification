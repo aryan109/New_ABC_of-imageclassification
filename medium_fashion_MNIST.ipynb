{
  "nbformat": 4,
  "nbformat_minor": 0,
  "metadata": {
    "colab": {
      "name": "medium fashion MNIST.ipynb",
      "provenance": [],
      "private_outputs": true,
      "collapsed_sections": []
    },
    "kernelspec": {
      "name": "python3",
      "display_name": "Python 3"
    },
    "accelerator": "GPU"
  },
  "cells": [
    {
      "cell_type": "code",
      "metadata": {
        "id": "G8njkyqtP-LK",
        "colab_type": "code",
        "colab": {}
      },
      "source": [
        "import tensorflow as tf\n",
        "import numpy as np\n",
        "from tensorflow import keras"
      ],
      "execution_count": 0,
      "outputs": []
    },
    {
      "cell_type": "code",
      "metadata": {
        "id": "igcE7vO0Tobr",
        "colab_type": "code",
        "colab": {}
      },
      "source": [
        "print(tf.__version__)"
      ],
      "execution_count": 0,
      "outputs": []
    },
    {
      "cell_type": "markdown",
      "metadata": {
        "id": "oI2_xuM4jZ_s",
        "colab_type": "text"
      },
      "source": [
        "creating callbacks"
      ]
    },
    {
      "cell_type": "code",
      "metadata": {
        "id": "RhvOhFwFcGne",
        "colab_type": "code",
        "colab": {}
      },
      "source": [
        "fashion_mnist = keras.datasets.fashion_mnist\n",
        "(train_images,train_labels),(test_images,test_lables)=fashion_mnist.load_data()"
      ],
      "execution_count": 0,
      "outputs": []
    },
    {
      "cell_type": "markdown",
      "metadata": {
        "id": "sx89VGEengO-",
        "colab_type": "text"
      },
      "source": [
        "viewing sata sample"
      ]
    },
    {
      "cell_type": "code",
      "metadata": {
        "id": "ljWqyFcbnjG8",
        "colab_type": "code",
        "colab": {}
      },
      "source": [
        "import matplotlib.pyplot as plt\n",
        "plt.imshow(train_images[0])"
      ],
      "execution_count": 0,
      "outputs": []
    },
    {
      "cell_type": "markdown",
      "metadata": {
        "id": "oSuoLeBVdkOy",
        "colab_type": "text"
      },
      "source": [
        "Normalizing our dataset"
      ]
    },
    {
      "cell_type": "code",
      "metadata": {
        "id": "Ft_aV8mHduXU",
        "colab_type": "code",
        "colab": {}
      },
      "source": [
        "train_images = train_images.reshape(60000,28,28,1)\n",
        "test_images = test_images.reshape(10000,28,28,1)\n",
        "train_images,test_images=train_images/225.0,test_images/255"
      ],
      "execution_count": 0,
      "outputs": []
    },
    {
      "cell_type": "code",
      "metadata": {
        "id": "-5QNgTpuMrZh",
        "colab_type": "code",
        "colab": {}
      },
      "source": [
        "print(type(train_images))"
      ],
      "execution_count": 0,
      "outputs": []
    },
    {
      "cell_type": "markdown",
      "metadata": {
        "id": "AJ3eSWCBcu5s",
        "colab_type": "text"
      },
      "source": [
        ""
      ]
    },
    {
      "cell_type": "markdown",
      "metadata": {
        "id": "QfTHDPQ5d7eC",
        "colab_type": "text"
      },
      "source": [
        "defining our model"
      ]
    },
    {
      "cell_type": "code",
      "metadata": {
        "id": "W-PzMqOfeGIY",
        "colab_type": "code",
        "colab": {}
      },
      "source": [
        "model = keras.Sequential([\n",
        "    keras.layers.Conv2D(64,(3,3),activation = 'relu',input_shape=(28,28,1)),\n",
        "    keras.layers.MaxPooling2D(2,2),\n",
        "    keras.layers.Flatten(),\n",
        "    keras.layers.Dense(128,activation = 'relu'),\n",
        "    keras.layers.Dense(10,activation = 'softmax')\n",
        "])\n",
        "model.summary()"
      ],
      "execution_count": 0,
      "outputs": []
    },
    {
      "cell_type": "markdown",
      "metadata": {
        "id": "S4dwiqiofHHH",
        "colab_type": "text"
      },
      "source": [
        "compiling model with optimizer and loss function"
      ]
    },
    {
      "cell_type": "code",
      "metadata": {
        "id": "J8GCO8LEfe5_",
        "colab_type": "code",
        "colab": {}
      },
      "source": [
        "model.compile(optimizer = tf.keras.optimizers.Adam(),\n",
        "             loss = 'sparse_categorical_crossentropy',\n",
        "             metrics = ['accuracy'])\n"
      ],
      "execution_count": 0,
      "outputs": []
    },
    {
      "cell_type": "markdown",
      "metadata": {
        "id": "wBh9TZ0Wf7fY",
        "colab_type": "text"
      },
      "source": [
        "training our model"
      ]
    },
    {
      "cell_type": "code",
      "metadata": {
        "id": "JFHOTKwvgC5t",
        "colab_type": "code",
        "colab": {}
      },
      "source": [
        "model.fit(train_images,train_labels,epochs = 50)"
      ],
      "execution_count": 0,
      "outputs": []
    },
    {
      "cell_type": "markdown",
      "metadata": {
        "id": "ix2Z7jw8gMQy",
        "colab_type": "text"
      },
      "source": [
        "evaluating our model"
      ]
    },
    {
      "cell_type": "code",
      "metadata": {
        "id": "ONCr6fm0gshk",
        "colab_type": "code",
        "colab": {}
      },
      "source": [
        "model.evaluate(test_images,test_lables)"
      ],
      "execution_count": 0,
      "outputs": []
    },
    {
      "cell_type": "code",
      "metadata": {
        "id": "25quEG13gxep",
        "colab_type": "code",
        "colab": {}
      },
      "source": [
        ""
      ],
      "execution_count": 0,
      "outputs": []
    }
  ]
}